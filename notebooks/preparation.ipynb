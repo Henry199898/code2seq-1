{
 "cells": [
  {
   "cell_type": "markdown",
   "metadata": {},
   "source": [
    "## Preparation"
   ]
  },
  {
   "cell_type": "markdown",
   "metadata": {},
   "source": [
    "### Dataset"
   ]
  },
  {
   "cell_type": "code",
   "execution_count": 1,
   "metadata": {},
   "outputs": [],
   "source": [
    "!mkdir ../data ../runs ../logs"
   ]
  },
  {
   "cell_type": "code",
   "execution_count": 2,
   "metadata": {},
   "outputs": [
    {
     "name": "stdout",
     "output_type": "stream",
     "text": [
      "--2019-10-04 05:17:17--  https://s3.amazonaws.com/code2seq/datasets/java-small-preprocessed.tar.gz\n",
      "Resolving s3.amazonaws.com (s3.amazonaws.com)... 52.216.163.5\n",
      "Connecting to s3.amazonaws.com (s3.amazonaws.com)|52.216.163.5|:443... connected.\n",
      "HTTP request sent, awaiting response... 200 OK\n",
      "Length: 479663374 (457M) [application/x-tar]\n",
      "Saving to: ‘../data/java-small-preprocessed.tar.gz’\n",
      "\n",
      "java-small-preproce 100%[===================>] 457.44M  16.6MB/s    in 30s     \n",
      "\n",
      "2019-10-04 05:17:48 (15.3 MB/s) - ‘../data/java-small-preprocessed.tar.gz’ saved [479663374/479663374]\n",
      "\n",
      "java-small/java-small.dict.c2s\n",
      "java-small/java-small.test.c2s\n",
      "java-small/java-small.train.c2s\n",
      "java-small/java-small.val.c2s\n"
     ]
    }
   ],
   "source": [
    "!wget https://s3.amazonaws.com/code2seq/datasets/java-small-preprocessed.tar.gz -P ../data/\n",
    "!tar -xvzf ../data/java-small-preprocessed.tar.gz -C ../data/"
   ]
  },
  {
   "cell_type": "markdown",
   "metadata": {},
   "source": [
    "### Packages"
   ]
  },
  {
   "cell_type": "code",
   "execution_count": 3,
   "metadata": {},
   "outputs": [
    {
     "name": "stdout",
     "output_type": "stream",
     "text": [
      "The autoreload extension is already loaded. To reload it, use:\n",
      "  %reload_ext autoreload\n"
     ]
    }
   ],
   "source": [
    "%load_ext autoreload\n",
    "%autoreload 2"
   ]
  },
  {
   "cell_type": "code",
   "execution_count": 4,
   "metadata": {},
   "outputs": [
    {
     "name": "stdout",
     "output_type": "stream",
     "text": [
      "Requirement already satisfied: google_compute_engine in /opt/anaconda3/lib/python3.7/site-packages (2.8.13)\n",
      "Requirement already satisfied: setuptools in /opt/anaconda3/lib/python3.7/site-packages (from google_compute_engine) (41.0.1)\n",
      "Requirement already satisfied: boto in /opt/anaconda3/lib/python3.7/site-packages (from google_compute_engine) (2.49.0)\n",
      "Requirement already satisfied: distro in /opt/anaconda3/lib/python3.7/site-packages (from google_compute_engine) (1.4.0)\n",
      "Requirement already satisfied: torch==1.2.0 in /opt/anaconda3/lib/python3.7/site-packages (from -r ../requirements.txt (line 1)) (1.2.0)\n",
      "Requirement already satisfied: tensorboard==2.0.0 in /opt/anaconda3/lib/python3.7/site-packages (from -r ../requirements.txt (line 2)) (2.0.0)\n",
      "Requirement already satisfied: gensim==3.6.0 in /opt/anaconda3/lib/python3.7/site-packages (from -r ../requirements.txt (line 3)) (3.6.0)\n",
      "Requirement already satisfied: numpy in /opt/anaconda3/lib/python3.7/site-packages (from torch==1.2.0->-r ../requirements.txt (line 1)) (1.16.4)\n",
      "Requirement already satisfied: werkzeug>=0.11.15 in /opt/anaconda3/lib/python3.7/site-packages (from tensorboard==2.0.0->-r ../requirements.txt (line 2)) (0.15.5)\n",
      "Requirement already satisfied: six>=1.10.0 in /opt/anaconda3/lib/python3.7/site-packages (from tensorboard==2.0.0->-r ../requirements.txt (line 2)) (1.12.0)\n",
      "Requirement already satisfied: protobuf>=3.6.0 in /opt/anaconda3/lib/python3.7/site-packages (from tensorboard==2.0.0->-r ../requirements.txt (line 2)) (3.9.1)\n",
      "Requirement already satisfied: absl-py>=0.4 in /opt/anaconda3/lib/python3.7/site-packages (from tensorboard==2.0.0->-r ../requirements.txt (line 2)) (0.8.0)\n",
      "Requirement already satisfied: setuptools>=41.0.0 in /opt/anaconda3/lib/python3.7/site-packages (from tensorboard==2.0.0->-r ../requirements.txt (line 2)) (41.0.1)\n",
      "Requirement already satisfied: markdown>=2.6.8 in /opt/anaconda3/lib/python3.7/site-packages (from tensorboard==2.0.0->-r ../requirements.txt (line 2)) (3.1.1)\n",
      "Requirement already satisfied: grpcio>=1.6.3 in /opt/anaconda3/lib/python3.7/site-packages (from tensorboard==2.0.0->-r ../requirements.txt (line 2)) (1.23.0)\n",
      "Requirement already satisfied: wheel>=0.26; python_version >= \"3\" in /opt/anaconda3/lib/python3.7/site-packages (from tensorboard==2.0.0->-r ../requirements.txt (line 2)) (0.33.4)\n",
      "Requirement already satisfied: smart-open>=1.2.1 in /opt/anaconda3/lib/python3.7/site-packages (from gensim==3.6.0->-r ../requirements.txt (line 3)) (1.8.4)\n",
      "Requirement already satisfied: scipy>=0.18.1 in /opt/anaconda3/lib/python3.7/site-packages (from gensim==3.6.0->-r ../requirements.txt (line 3)) (1.3.1)\n",
      "Requirement already satisfied: boto>=2.32 in /opt/anaconda3/lib/python3.7/site-packages (from smart-open>=1.2.1->gensim==3.6.0->-r ../requirements.txt (line 3)) (2.49.0)\n",
      "Requirement already satisfied: boto3 in /opt/anaconda3/lib/python3.7/site-packages (from smart-open>=1.2.1->gensim==3.6.0->-r ../requirements.txt (line 3)) (1.9.242)\n",
      "Requirement already satisfied: requests in /opt/anaconda3/lib/python3.7/site-packages (from smart-open>=1.2.1->gensim==3.6.0->-r ../requirements.txt (line 3)) (2.22.0)\n",
      "Requirement already satisfied: botocore<1.13.0,>=1.12.242 in /opt/anaconda3/lib/python3.7/site-packages (from boto3->smart-open>=1.2.1->gensim==3.6.0->-r ../requirements.txt (line 3)) (1.12.242)\n",
      "Requirement already satisfied: jmespath<1.0.0,>=0.7.1 in /opt/anaconda3/lib/python3.7/site-packages (from boto3->smart-open>=1.2.1->gensim==3.6.0->-r ../requirements.txt (line 3)) (0.9.4)\n",
      "Requirement already satisfied: s3transfer<0.3.0,>=0.2.0 in /opt/anaconda3/lib/python3.7/site-packages (from boto3->smart-open>=1.2.1->gensim==3.6.0->-r ../requirements.txt (line 3)) (0.2.1)\n",
      "Requirement already satisfied: certifi>=2017.4.17 in /opt/anaconda3/lib/python3.7/site-packages (from requests->smart-open>=1.2.1->gensim==3.6.0->-r ../requirements.txt (line 3)) (2019.6.16)\n",
      "Requirement already satisfied: chardet<3.1.0,>=3.0.2 in /opt/anaconda3/lib/python3.7/site-packages (from requests->smart-open>=1.2.1->gensim==3.6.0->-r ../requirements.txt (line 3)) (3.0.4)\n",
      "Requirement already satisfied: urllib3!=1.25.0,!=1.25.1,<1.26,>=1.21.1 in /opt/anaconda3/lib/python3.7/site-packages (from requests->smart-open>=1.2.1->gensim==3.6.0->-r ../requirements.txt (line 3)) (1.24.2)\n",
      "Requirement already satisfied: idna<2.9,>=2.5 in /opt/anaconda3/lib/python3.7/site-packages (from requests->smart-open>=1.2.1->gensim==3.6.0->-r ../requirements.txt (line 3)) (2.8)\n",
      "Requirement already satisfied: python-dateutil<3.0.0,>=2.1; python_version >= \"2.7\" in /opt/anaconda3/lib/python3.7/site-packages (from botocore<1.13.0,>=1.12.242->boto3->smart-open>=1.2.1->gensim==3.6.0->-r ../requirements.txt (line 3)) (2.8.0)\n",
      "Requirement already satisfied: docutils<0.16,>=0.10 in /opt/anaconda3/lib/python3.7/site-packages (from botocore<1.13.0,>=1.12.242->boto3->smart-open>=1.2.1->gensim==3.6.0->-r ../requirements.txt (line 3)) (0.15.2)\n"
     ]
    }
   ],
   "source": [
    "# if you use GCP, install google_compute_engine\n",
    "!pip install google_compute_engine\n",
    "!pip install -r ../requirements.txt"
   ]
  },
  {
   "cell_type": "markdown",
   "metadata": {},
   "source": [
    "### For dev.."
   ]
  },
  {
   "cell_type": "code",
   "execution_count": 11,
   "metadata": {},
   "outputs": [],
   "source": [
    "!head -20000 ../data/java-small/java-small.train.c2s ../data/java-small/java-small.train_small.c2s"
   ]
  }
 ],
 "metadata": {
  "kernelspec": {
   "display_name": "Python 3",
   "language": "python",
   "name": "python3"
  },
  "language_info": {
   "codemirror_mode": {
    "name": "ipython",
    "version": 3
   },
   "file_extension": ".py",
   "mimetype": "text/x-python",
   "name": "python",
   "nbconvert_exporter": "python",
   "pygments_lexer": "ipython3",
   "version": "3.7.4"
  }
 },
 "nbformat": 4,
 "nbformat_minor": 4
}
